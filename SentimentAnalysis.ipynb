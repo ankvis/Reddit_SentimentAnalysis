{
 "cells": [
  {
   "cell_type": "markdown",
   "metadata": {},
   "source": [
    "### Imports"
   ]
  },
  {
   "cell_type": "code",
   "execution_count": 1,
   "metadata": {},
   "outputs": [],
   "source": [
    "import os\n",
    "import praw\n",
    "import openai"
   ]
  },
  {
   "cell_type": "markdown",
   "metadata": {},
   "source": [
    "### Get API keys, OpenAI and Reddit"
   ]
  },
  {
   "cell_type": "code",
   "execution_count": 5,
   "metadata": {},
   "outputs": [],
   "source": [
    "openai.api_key = os.getenv('OPENAI_API_KEY')"
   ]
  },
  {
   "cell_type": "code",
   "execution_count": 6,
   "metadata": {},
   "outputs": [],
   "source": [
    "reddit = praw.Reddit(client_id = os.environ['client_id'], #personal key\n",
    "                    client_secret= os.environ['client_secret'], #secret key\n",
    "                    user_agent = 'sentiment analysis' #title\n",
    "                    )"
   ]
  },
  {
   "cell_type": "markdown",
   "metadata": {},
   "source": [
    "### Prompt Generation\n",
    "\n",
    "Using reddit api to get the hot posts and top comments on the subreddit. This content will be used to pass it openai to get a sentiment Analysis of the post. "
   ]
  },
  {
   "cell_type": "code",
   "execution_count": 18,
   "metadata": {},
   "outputs": [],
   "source": [
    "def get_titles_and_comments(subreddit=\"stocks\", sub_instance=\"hot\", limit=10, num_comments=2, skip_first=2):\n",
    "    subreddit = reddit.subreddit(subreddit)\n",
    "    titles_and_comments = {}\n",
    "    for c, post in enumerate(getattr(subreddit, sub_instance)(limit=limit)):\n",
    "        \n",
    "        if c < skip_first:\n",
    "            continue\n",
    "        \n",
    "        c+=(1-skip_first)\n",
    "        \n",
    "        titles_and_comments[c] = \"\"\n",
    "\n",
    "        submission = reddit.submission(post.id)\n",
    "        title = post.title\n",
    "        \n",
    "        titles_and_comments[c] += \"Title: \" + title  + \"\\n\\n\"\n",
    "        titles_and_comments[c] += \"Comments: \\n\\n\"\n",
    "        \n",
    "        comment_counter = 0\n",
    "        for comment in submission.comments:\n",
    "            comment = comment.body\n",
    "            if not comment == \"[deleted]\":\n",
    "                titles_and_comments[c] += comment + \"\\n\"\n",
    "                comment_counter+=1\n",
    "            if comment_counter == num_comments:\n",
    "                break\n",
    "\n",
    "    return titles_and_comments"
   ]
  },
  {
   "cell_type": "code",
   "execution_count": 19,
   "metadata": {},
   "outputs": [],
   "source": [
    "titles_and_comments = get_titles_and_comments(subreddit=\"stocks\", limit=12)"
   ]
  },
  {
   "cell_type": "code",
   "execution_count": 20,
   "metadata": {},
   "outputs": [
    {
     "name": "stdout",
     "output_type": "stream",
     "text": [
      "Title: Fed’s Bowman says more U.S. rate hikes likely will be needed\n",
      "\n",
      "Comments: \n",
      "\n",
      "Color me shocked\n",
      "There will be atleast one more rate hike of 25 basis points. Will there be one more? thats the question. \n",
      "\n",
      "Just because the Fed stops rate hikes doesn't mean its going to start cutting them. I think this time they might just hold them for a bit till inflation is where they want it to be.\n",
      "\n"
     ]
    }
   ],
   "source": [
    "print(titles_and_comments[2])"
   ]
  },
  {
   "cell_type": "markdown",
   "metadata": {},
   "source": [
    "### Merging Prompt"
   ]
  },
  {
   "cell_type": "code",
   "execution_count": 21,
   "metadata": {},
   "outputs": [],
   "source": [
    "def create_prompt(title_and_comments):\n",
    "\n",
    "    task = \"Return the stock ticker or company in the following heading and comments and classify the sentiment. If no ticker or company is mentioned write 'No company mentioned':\\n\\n\"\n",
    "    return task + title_and_comments\n"
   ]
  },
  {
   "cell_type": "code",
   "execution_count": 22,
   "metadata": {},
   "outputs": [],
   "source": [
    "prompt = create_prompt(titles_and_comments[1])"
   ]
  },
  {
   "cell_type": "code",
   "execution_count": 23,
   "metadata": {},
   "outputs": [
    {
     "name": "stdout",
     "output_type": "stream",
     "text": [
      "Return the stock ticker or company in the following heading and comments and classify the sentiment. If no ticker or company is mentioned write 'No company mentioned':\n",
      "\n",
      "Title: WSJ: Pfizer’s Covid Boost Crashes to Earth. \"Shares are down 31% YTD, a loss of more than $88 billion in market capitalization\"\n",
      "\n",
      "Comments: \n",
      "\n",
      "So what do you guys think. I have some shares and I don’t know if i should sell or hold 5 years\n",
      "Surprised Pikachu face\n",
      "\n"
     ]
    }
   ],
   "source": [
    "print(prompt)"
   ]
  },
  {
   "cell_type": "markdown",
   "metadata": {},
   "source": [
    "### OpenAI API call"
   ]
  },
  {
   "cell_type": "code",
   "execution_count": 25,
   "metadata": {},
   "outputs": [
    {
     "name": "stdout",
     "output_type": "stream",
     "text": [
      "Title: WSJ: Pfizer’s Covid Boost Crashes to Earth. \"Shares are down 31% YTD, a loss of more than $88 billion in market capitalization\"\n",
      "\n",
      "Comments: \n",
      "\n",
      "So what do you guys think. I have some shares and I don’t know if i should sell or hold 5 years\n",
      "Surprised Pikachu face\n",
      "\n",
      "Sentiment report from OpenAI: \n",
      "Company: Pfizer\n",
      "Sentiment: Negative\n",
      "------------------------------\n",
      "Title: Fed’s Bowman says more U.S. rate hikes likely will be needed\n",
      "\n",
      "Comments: \n",
      "\n",
      "Color me shocked\n",
      "There will be atleast one more rate hike of 25 basis points. Will there be one more? thats the question. \n",
      "\n",
      "Just because the Fed stops rate hikes doesn't mean its going to start cutting them. I think this time they might just hold them for a bit till inflation is where they want it to be.\n",
      "\n",
      "Sentiment report from OpenAI: \n",
      "No company mentioned\n",
      "------------------------------\n",
      "Title: Nvidia upcoming Earnings\n",
      "\n",
      "Comments: \n",
      "\n",
      "Honestly I am genuinely wondering if they can post earnings to support the insane growth in their stock value\n",
      "Tsmc makes their chips. Tsmc gave flat guidance. Nvda gave boom guidance. Insert picture of lady with math symbols around her.\n",
      "\n",
      "Nvda is a good company with good tech but their valuation is unhinged right now.\n",
      "\n",
      "Sentiment report from OpenAI: \n",
      "Company: Nvidia (Nvda)\n",
      "Sentiment: Positive\n",
      "------------------------------\n",
      "Title: Paypals New Ceo could be original Founder Max Levchin\n",
      "\n",
      "Comments: \n",
      "\n",
      "every time i see option to pay with paypal, i pay with my 2% cash back credit card.\n",
      "Whoever becomes ceo, better make the stock moon\n",
      "\n",
      "Sentiment report from OpenAI: \n",
      "Company: PayPal\n",
      "Sentiment: Positive\n",
      "------------------------------\n",
      "Title: Deciding to start my investing journey. 50% in QQQM and 50% in VXUS\n",
      "\n",
      "Comments: \n",
      "\n",
      "50% international is a higher proportion than VT would give you. You’re also missing literally a ton of US stocks with that portfolio suggestion. All you’re getting is the 100 US stocks that make up the Nasdaq.\n",
      "\n",
      "This allocation would be making a strange bet that US Tech outperforms the broader US market which also underperforms the international market. \n",
      "\n",
      "I say strange because of how much of the US market is tech; so other sectors like US energy or finance or staples would have to significantly underperform their international counterparts for this scenario to happen.\n",
      "\n",
      "Two options for you: Buy VTI, VXUS and QQQM or just do VT and QQQM for simplicity.\n",
      "I’d recommend something like 60 20 20 for the former and 80 20 for the latter.\n",
      "First thing that comes in mind I see you say you are investing for a retirement. Are you using a retirement account (401k/IRA)? If so remember those have limits and if you are just starting to invest,  broad indexes like the ones above probaly wont get you there in 25 years. Its not impossible, but I think a better game plan would be to directly buy individual tech stocks you like; But take my advice and dont just do tech, tech has a habit of slowing down as it is right now.\n",
      "\n",
      "Sentiment report from OpenAI: \n",
      "No company mentioned.\n",
      "------------------------------\n",
      "Title: Fundamental analysis options\n",
      "\n",
      "Comments: \n",
      "\n",
      "I think you want a trading bot or something along those lines. I have not done this myself, but I know there are tutorials here: [https://ibkrcampus.com/traders-academy/api/](https://ibkrcampus.com/traders-academy/api/)\n",
      "\n",
      "Offers a way to use excel, python, or R language to trade automatically bot style I believe.\n",
      "Could write a Python program to gather the data and automate analysis. Are you able to mention a little more specifically what it is that you are trying to do/what he does?\n",
      "\n",
      "Sentiment report from OpenAI: \n",
      "No company mentioned.\n",
      "------------------------------\n",
      "Title: Why Berkshire always reports earnings on the weekend\n",
      "\n",
      "Comments: \n",
      "\n",
      "Controlling market over reaction. Give you time to absorb the information and make a rational decision.\n",
      "sound like good financial advice actually, makes sense. may be add in more opp to nut so that you don't make a hasty decision.\n",
      "\n",
      "Sentiment report from OpenAI: \n",
      "No company mentioned\n",
      "------------------------------\n",
      "Title: Today I learned the SEC EDGAR Online search tool pulls Anonymous complaint forms on it's database. An S7?\n",
      "\n",
      "Comments: \n",
      "\n",
      "\n",
      "Sentiment report from OpenAI: No company mentioned. \n",
      "\n",
      "No company mentioned.\n",
      "------------------------------\n",
      "Title: About Roth IRA Contributions, gains, taxes\n",
      "\n",
      "Comments: \n",
      "\n",
      "https://www.investopedia.com/roth-ira-withdrawal-rules-4769951\n",
      "Main question it could turn into 10 mil and you can say write me a check for 10 mil, cash it and roll naked in 10 mil after the age of 59 1/2. \n",
      "2nd question…. Yes\n",
      "Your 4k would be taxed at your tax rate.\n",
      "\n",
      "Sentiment report from OpenAI: \n",
      "No company mentioned.\n",
      "------------------------------\n",
      "Title: Recall NIO 2020 SP Spike - Better Positioned Now => Will History Repeat\n",
      "\n",
      "Comments: \n",
      "\n",
      "There has been massive dilution since then, unlikely imo. Obscenely overvalued at current price, imo.\n",
      "\n",
      "Sentiment report from OpenAI: \n",
      "No company mentioned\n",
      "------------------------------\n"
     ]
    }
   ],
   "source": [
    "for key, title_and_comments in titles_and_comments.items():\n",
    "    \n",
    "    prompt = create_prompt(title_and_comments)\n",
    "    \n",
    "    response = openai.Completion.create(engine=\"text-davinci-003\",\n",
    "                                                prompt=prompt,\n",
    "                                                max_tokens=256,\n",
    "                                                temperature=0,\n",
    "                                                top_p=1.0,\n",
    "                                                frequency_penalty=0.0,\n",
    "                                                presence_penalty=0.0)\n",
    "    print(title_and_comments)\n",
    "    print(\"Sentiment report from OpenAI: \" + response[\"choices\"][0][\"text\"])\n",
    "    print(\"-\"*30)"
   ]
  },
  {
   "cell_type": "code",
   "execution_count": null,
   "metadata": {},
   "outputs": [],
   "source": []
  }
 ],
 "metadata": {
  "kernelspec": {
   "display_name": "base",
   "language": "python",
   "name": "python3"
  },
  "language_info": {
   "codemirror_mode": {
    "name": "ipython",
    "version": 3
   },
   "file_extension": ".py",
   "mimetype": "text/x-python",
   "name": "python",
   "nbconvert_exporter": "python",
   "pygments_lexer": "ipython3",
   "version": "3.11.3"
  },
  "orig_nbformat": 4
 },
 "nbformat": 4,
 "nbformat_minor": 2
}
